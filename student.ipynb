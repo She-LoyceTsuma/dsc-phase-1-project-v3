{
 "cells": [
  {
   "cell_type": "markdown",
   "metadata": {},
   "source": [
    "## Final Project Submission\n",
    "\n",
    "Please fill out:\n",
    "* Student name: \n",
    "* Student pace: self paced / part time / full time\n",
    "* Scheduled project review date/time: \n",
    "* Instructor name: \n",
    "* Blog post URL:\n"
   ]
  },
  {
   "cell_type": "markdown",
   "metadata": {},
   "source": [
    "# Unites States Aviation Accident Analysis"
   ]
  },
  {
   "cell_type": "markdown",
   "metadata": {},
   "source": [
    "## Overview"
   ]
  },
  {
   "cell_type": "markdown",
   "metadata": {},
   "source": [
    "This is an analysis of aviation accident data from the National Transportation Safety Board (NTSB) to identify trends and patterns in civil aviation accidents and selected incidents in the United States and international waters from 1962 to 2023. The goal of this analysis is to provide insights that can inform safety measures and improve the overall safety of aviation operations."
   ]
  },
  {
   "cell_type": "markdown",
   "metadata": {},
   "source": [
    "### Business Problem"
   ]
  },
  {
   "cell_type": "markdown",
   "metadata": {},
   "source": [
    "The aviation industry faces significant safety risks, and understanding the causes and patterns of accidents is crucial for reducing the likelihood of future incidents. By analyzing historical data on aviation accidents, we can identify common factors and trends that contribute to accidents, enabling the development of targeted safety initiatives to mitigate these risks that lead to loss of lives and financial loss."
   ]
  },
  {
   "cell_type": "markdown",
   "metadata": {},
   "source": [
    "### The Data"
   ]
  },
  {
   "cell_type": "markdown",
   "metadata": {},
   "source": [
    "The dataset from the National Transportation Safety Board which contains information on civil aviation accidents and selected incidents in the United States and international waters from 1962 to 2023. The data includes various features such as the probable cause of the `accident`, `location`, `date` and `details on the aircraft involved.`"
   ]
  },
  {
   "cell_type": "code",
   "execution_count": null,
   "metadata": {},
   "outputs": [],
   "source": [
    "#Importing the relevant libraries\n",
    "import numpy as np\n",
    "import pandas as pd\n",
    "import seaborn as sns\n",
    "import matplotlib.pyplot as plt\n",
    "%matplotlib inline"
   ]
  },
  {
   "cell_type": "code",
   "execution_count": 25,
   "metadata": {},
   "outputs": [],
   "source": [
    "# Converting the file into a pd data frame\n",
    "aviation = '../dsc-phase-1-project-v3/data/Aviation_Data.csv'\n",
    "df = pd.read_csv(aviation, engine = 'python')\n"
   ]
  },
  {
   "cell_type": "code",
   "execution_count": 26,
   "metadata": {},
   "outputs": [],
   "source": [
    "contigency_dataset = df.copy()# copying original data set before cleaning"
   ]
  },
  {
   "cell_type": "markdown",
   "metadata": {},
   "source": [
    "## Exploring the Data"
   ]
  },
  {
   "cell_type": "code",
   "execution_count": 27,
   "metadata": {},
   "outputs": [
    {
     "name": "stdout",
     "output_type": "stream",
     "text": [
      "<class 'pandas.core.frame.DataFrame'>\n",
      "RangeIndex: 90348 entries, 0 to 90347\n",
      "Data columns (total 31 columns):\n",
      " #   Column                  Non-Null Count  Dtype  \n",
      "---  ------                  --------------  -----  \n",
      " 0   Event.Id                88889 non-null  object \n",
      " 1   Investigation.Type      90348 non-null  object \n",
      " 2   Accident.Number         88889 non-null  object \n",
      " 3   Event.Date              88889 non-null  object \n",
      " 4   Location                88837 non-null  object \n",
      " 5   Country                 88663 non-null  object \n",
      " 6   Latitude                34382 non-null  object \n",
      " 7   Longitude               34373 non-null  object \n",
      " 8   Airport.Code            50132 non-null  object \n",
      " 9   Airport.Name            52704 non-null  object \n",
      " 10  Injury.Severity         87889 non-null  object \n",
      " 11  Aircraft.damage         85695 non-null  object \n",
      " 12  Aircraft.Category       32287 non-null  object \n",
      " 13  Registration.Number     87507 non-null  object \n",
      " 14  Make                    88826 non-null  object \n",
      " 15  Model                   88797 non-null  object \n",
      " 16  Amateur.Built           88787 non-null  object \n",
      " 17  Number.of.Engines       82805 non-null  float64\n",
      " 18  Engine.Type             81793 non-null  object \n",
      " 19  FAR.Description         32023 non-null  object \n",
      " 20  Schedule                12582 non-null  object \n",
      " 21  Purpose.of.flight       82697 non-null  object \n",
      " 22  Air.carrier             16648 non-null  object \n",
      " 23  Total.Fatal.Injuries    77488 non-null  float64\n",
      " 24  Total.Serious.Injuries  76379 non-null  float64\n",
      " 25  Total.Minor.Injuries    76956 non-null  float64\n",
      " 26  Total.Uninjured         82977 non-null  float64\n",
      " 27  Weather.Condition       84397 non-null  object \n",
      " 28  Broad.phase.of.flight   61724 non-null  object \n",
      " 29  Report.Status           82505 non-null  object \n",
      " 30  Publication.Date        73659 non-null  object \n",
      "dtypes: float64(5), object(26)\n",
      "memory usage: 21.4+ MB\n"
     ]
    }
   ],
   "source": [
    "#Get an Overview of the data\n",
    "df.info()\n"
   ]
  },
  {
   "cell_type": "code",
   "execution_count": 6,
   "metadata": {},
   "outputs": [
    {
     "data": {
      "text/plain": [
       "(90348, 31)"
      ]
     },
     "execution_count": 6,
     "metadata": {},
     "output_type": "execute_result"
    }
   ],
   "source": [
    "df.shape"
   ]
  },
  {
   "cell_type": "code",
   "execution_count": 7,
   "metadata": {},
   "outputs": [
    {
     "data": {
      "text/html": [
       "<div>\n",
       "<style scoped>\n",
       "    .dataframe tbody tr th:only-of-type {\n",
       "        vertical-align: middle;\n",
       "    }\n",
       "\n",
       "    .dataframe tbody tr th {\n",
       "        vertical-align: top;\n",
       "    }\n",
       "\n",
       "    .dataframe thead th {\n",
       "        text-align: right;\n",
       "    }\n",
       "</style>\n",
       "<table border=\"1\" class=\"dataframe\">\n",
       "  <thead>\n",
       "    <tr style=\"text-align: right;\">\n",
       "      <th></th>\n",
       "      <th>Number.of.Engines</th>\n",
       "      <th>Total.Fatal.Injuries</th>\n",
       "      <th>Total.Serious.Injuries</th>\n",
       "      <th>Total.Minor.Injuries</th>\n",
       "      <th>Total.Uninjured</th>\n",
       "    </tr>\n",
       "  </thead>\n",
       "  <tbody>\n",
       "    <tr>\n",
       "      <th>count</th>\n",
       "      <td>82805.000000</td>\n",
       "      <td>77488.000000</td>\n",
       "      <td>76379.000000</td>\n",
       "      <td>76956.000000</td>\n",
       "      <td>82977.000000</td>\n",
       "    </tr>\n",
       "    <tr>\n",
       "      <th>mean</th>\n",
       "      <td>1.146585</td>\n",
       "      <td>0.647855</td>\n",
       "      <td>0.279881</td>\n",
       "      <td>0.357061</td>\n",
       "      <td>5.325440</td>\n",
       "    </tr>\n",
       "    <tr>\n",
       "      <th>std</th>\n",
       "      <td>0.446510</td>\n",
       "      <td>5.485960</td>\n",
       "      <td>1.544084</td>\n",
       "      <td>2.235625</td>\n",
       "      <td>27.913634</td>\n",
       "    </tr>\n",
       "    <tr>\n",
       "      <th>min</th>\n",
       "      <td>0.000000</td>\n",
       "      <td>0.000000</td>\n",
       "      <td>0.000000</td>\n",
       "      <td>0.000000</td>\n",
       "      <td>0.000000</td>\n",
       "    </tr>\n",
       "    <tr>\n",
       "      <th>25%</th>\n",
       "      <td>1.000000</td>\n",
       "      <td>0.000000</td>\n",
       "      <td>0.000000</td>\n",
       "      <td>0.000000</td>\n",
       "      <td>0.000000</td>\n",
       "    </tr>\n",
       "    <tr>\n",
       "      <th>50%</th>\n",
       "      <td>1.000000</td>\n",
       "      <td>0.000000</td>\n",
       "      <td>0.000000</td>\n",
       "      <td>0.000000</td>\n",
       "      <td>1.000000</td>\n",
       "    </tr>\n",
       "    <tr>\n",
       "      <th>75%</th>\n",
       "      <td>1.000000</td>\n",
       "      <td>0.000000</td>\n",
       "      <td>0.000000</td>\n",
       "      <td>0.000000</td>\n",
       "      <td>2.000000</td>\n",
       "    </tr>\n",
       "    <tr>\n",
       "      <th>max</th>\n",
       "      <td>8.000000</td>\n",
       "      <td>349.000000</td>\n",
       "      <td>161.000000</td>\n",
       "      <td>380.000000</td>\n",
       "      <td>699.000000</td>\n",
       "    </tr>\n",
       "  </tbody>\n",
       "</table>\n",
       "</div>"
      ],
      "text/plain": [
       "       Number.of.Engines  Total.Fatal.Injuries  Total.Serious.Injuries  \\\n",
       "count       82805.000000          77488.000000            76379.000000   \n",
       "mean            1.146585              0.647855                0.279881   \n",
       "std             0.446510              5.485960                1.544084   \n",
       "min             0.000000              0.000000                0.000000   \n",
       "25%             1.000000              0.000000                0.000000   \n",
       "50%             1.000000              0.000000                0.000000   \n",
       "75%             1.000000              0.000000                0.000000   \n",
       "max             8.000000            349.000000              161.000000   \n",
       "\n",
       "       Total.Minor.Injuries  Total.Uninjured  \n",
       "count          76956.000000     82977.000000  \n",
       "mean               0.357061         5.325440  \n",
       "std                2.235625        27.913634  \n",
       "min                0.000000         0.000000  \n",
       "25%                0.000000         0.000000  \n",
       "50%                0.000000         1.000000  \n",
       "75%                0.000000         2.000000  \n",
       "max              380.000000       699.000000  "
      ]
     },
     "execution_count": 7,
     "metadata": {},
     "output_type": "execute_result"
    }
   ],
   "source": [
    "df.describe()"
   ]
  },
  {
   "cell_type": "code",
   "execution_count": 8,
   "metadata": {},
   "outputs": [
    {
     "data": {
      "text/plain": [
       "Event.Id                   1459\n",
       "Investigation.Type            0\n",
       "Accident.Number            1459\n",
       "Event.Date                 1459\n",
       "Location                   1511\n",
       "Country                    1685\n",
       "Latitude                  55966\n",
       "Longitude                 55975\n",
       "Airport.Code              40216\n",
       "Airport.Name              37644\n",
       "Injury.Severity            2459\n",
       "Aircraft.damage            4653\n",
       "Aircraft.Category         58061\n",
       "Registration.Number        2841\n",
       "Make                       1522\n",
       "Model                      1551\n",
       "Amateur.Built              1561\n",
       "Number.of.Engines          7543\n",
       "Engine.Type                8555\n",
       "FAR.Description           58325\n",
       "Schedule                  77766\n",
       "Purpose.of.flight          7651\n",
       "Air.carrier               73700\n",
       "Total.Fatal.Injuries      12860\n",
       "Total.Serious.Injuries    13969\n",
       "Total.Minor.Injuries      13392\n",
       "Total.Uninjured            7371\n",
       "Weather.Condition          5951\n",
       "Broad.phase.of.flight     28624\n",
       "Report.Status              7843\n",
       "Publication.Date          16689\n",
       "dtype: int64"
      ]
     },
     "execution_count": 8,
     "metadata": {},
     "output_type": "execute_result"
    }
   ],
   "source": [
    "#identifying null values\n",
    "\n",
    "df.isnull().sum()\n"
   ]
  },
  {
   "cell_type": "code",
   "execution_count": 9,
   "metadata": {},
   "outputs": [
    {
     "data": {
      "text/plain": [
       "1390"
      ]
     },
     "execution_count": 9,
     "metadata": {},
     "output_type": "execute_result"
    }
   ],
   "source": [
    "#checking for duplicates \n",
    "\n",
    "df.duplicated().sum()"
   ]
  },
  {
   "cell_type": "code",
   "execution_count": 10,
   "metadata": {},
   "outputs": [],
   "source": [
    "### Data Cleaning"
   ]
  },
  {
   "cell_type": "code",
   "execution_count": 11,
   "metadata": {},
   "outputs": [],
   "source": [
    "#Drop duplicated items in a column\n",
    "df = df.drop_duplicates(subset=['Accident.Number'])"
   ]
  },
  {
   "cell_type": "code",
   "execution_count": 12,
   "metadata": {},
   "outputs": [],
   "source": [
    "#Dropping Unecessary Columns\n",
    "\n",
    "df.drop(columns = ['Latitude','Longitude','FAR.Description','Investigation.Type','Airport.Code',\n",
    "'Amateur.Built','Engine.Type','Schedule'],inplace = True )\n"
   ]
  },
  {
   "cell_type": "code",
   "execution_count": 13,
   "metadata": {},
   "outputs": [],
   "source": [
    "#Drop rows where 'Country' is not 'United States' and modify the original DataFrame\n",
    "\n",
    "df = df[df['Country'] == 'United States']\n"
   ]
  },
  {
   "cell_type": "code",
   "execution_count": 29,
   "metadata": {},
   "outputs": [],
   "source": [
    "# Convert 'Event.Date' column to Date Time Format\n",
    "df['Event.Date'] = pd.to_datetime(df['Event.Date'])\n",
    "\n",
    "\n"
   ]
  },
  {
   "cell_type": "code",
   "execution_count": 30,
   "metadata": {},
   "outputs": [],
   "source": [
    "#Remove '.' and capitalize the next letter in column names\n",
    "\n",
    "df = df.rename(columns={col: col.replace('.', ' ').replace(col[col.find('.')+1], col[col.find('.')+1].upper()) for col in df.columns})\n"
   ]
  },
  {
   "cell_type": "code",
   "execution_count": 31,
   "metadata": {},
   "outputs": [
    {
     "data": {
      "text/plain": [
       "Index(['Event Id', 'Investigation Type', 'Accident Number', 'Event Date',\n",
       "       'Location', 'Country', 'Latitude', 'Longitude', 'Airport Code',\n",
       "       'Airport Name', 'Injury Severity', 'Aircraft Damage',\n",
       "       'Aircraft Category', 'Registration Number', 'Make', 'Model',\n",
       "       'Amateur Built', 'Number Of Engines', 'Engine Type', 'FAR Description',\n",
       "       'Schedule', 'PurpOse Of flight', 'Air Carrier', 'Total Fatal Injuries',\n",
       "       'Total Serious Injuries', 'Total Minor Injuries', 'Total Uninjured',\n",
       "       'Weather Condition', 'Broad Phase of flight', 'Report Status',\n",
       "       'Publication Date'],\n",
       "      dtype='object')"
      ]
     },
     "execution_count": 31,
     "metadata": {},
     "output_type": "execute_result"
    }
   ],
   "source": [
    "df.columns"
   ]
  },
  {
   "cell_type": "code",
   "execution_count": 17,
   "metadata": {},
   "outputs": [
    {
     "name": "stdout",
     "output_type": "stream",
     "text": [
      "<class 'pandas.core.frame.DataFrame'>\n",
      "Index: 82230 entries, 0 to 90347\n",
      "Data columns (total 23 columns):\n",
      " #   Column                  Non-Null Count  Dtype         \n",
      "---  ------                  --------------  -----         \n",
      " 0   Event Id                82230 non-null  object        \n",
      " 1   Accident Number         82230 non-null  object        \n",
      " 2   Event Date              82230 non-null  datetime64[ns]\n",
      " 3   Location                82219 non-null  object        \n",
      " 4   Country                 82230 non-null  object        \n",
      " 5   Airport Name            51556 non-null  object        \n",
      " 6   Injury Severity         82125 non-null  object        \n",
      " 7   Aircraft Damage         80253 non-null  object        \n",
      " 8   Aircraft Category       28137 non-null  object        \n",
      " 9   Registration Number     82114 non-null  object        \n",
      " 10  Make                    82209 non-null  object        \n",
      " 11  Model                   82192 non-null  object        \n",
      " 12  Number Of Engines       80357 non-null  float64       \n",
      " 13  PurpOse Of flight       79804 non-null  object        \n",
      " 14  Air Carrier             14485 non-null  object        \n",
      " 15  Total Fatal Injuries    71576 non-null  float64       \n",
      " 16  Total Serious Injuries  70855 non-null  float64       \n",
      " 17  Total Minor Injuries    71501 non-null  float64       \n",
      " 18  Total Uninjured         77225 non-null  float64       \n",
      " 19  Weather Condition       81588 non-null  object        \n",
      " 20  Broad Phase of flight   61158 non-null  object        \n",
      " 21  Report Status           79631 non-null  object        \n",
      " 22  Publication Date        68096 non-null  object        \n",
      "dtypes: datetime64[ns](1), float64(5), object(17)\n",
      "memory usage: 15.1+ MB\n"
     ]
    }
   ],
   "source": [
    "df.info()"
   ]
  },
  {
   "cell_type": "code",
   "execution_count": 18,
   "metadata": {},
   "outputs": [],
   "source": [
    "# Keep only the rows with at least 18 non-null values\n",
    "df = df.dropna(thresh=18)"
   ]
  },
  {
   "cell_type": "code",
   "execution_count": 19,
   "metadata": {},
   "outputs": [
    {
     "data": {
      "text/plain": [
       "(78579, 23)"
      ]
     },
     "execution_count": 19,
     "metadata": {},
     "output_type": "execute_result"
    }
   ],
   "source": [
    "df.shape"
   ]
  },
  {
   "cell_type": "code",
   "execution_count": 20,
   "metadata": {},
   "outputs": [
    {
     "data": {
      "text/html": [
       "<div>\n",
       "<style scoped>\n",
       "    .dataframe tbody tr th:only-of-type {\n",
       "        vertical-align: middle;\n",
       "    }\n",
       "\n",
       "    .dataframe tbody tr th {\n",
       "        vertical-align: top;\n",
       "    }\n",
       "\n",
       "    .dataframe thead th {\n",
       "        text-align: right;\n",
       "    }\n",
       "</style>\n",
       "<table border=\"1\" class=\"dataframe\">\n",
       "  <thead>\n",
       "    <tr style=\"text-align: right;\">\n",
       "      <th></th>\n",
       "      <th>Event Date</th>\n",
       "      <th>Number Of Engines</th>\n",
       "      <th>Total Fatal Injuries</th>\n",
       "      <th>Total Serious Injuries</th>\n",
       "      <th>Total Minor Injuries</th>\n",
       "      <th>Total Uninjured</th>\n",
       "    </tr>\n",
       "  </thead>\n",
       "  <tbody>\n",
       "    <tr>\n",
       "      <th>count</th>\n",
       "      <td>78579</td>\n",
       "      <td>77026.000000</td>\n",
       "      <td>70341.000000</td>\n",
       "      <td>70201.000000</td>\n",
       "      <td>70801.00000</td>\n",
       "      <td>75240.000000</td>\n",
       "    </tr>\n",
       "    <tr>\n",
       "      <th>mean</th>\n",
       "      <td>1998-08-25 08:41:17.242011136</td>\n",
       "      <td>1.132890</td>\n",
       "      <td>0.395800</td>\n",
       "      <td>0.250937</td>\n",
       "      <td>0.32508</td>\n",
       "      <td>3.942424</td>\n",
       "    </tr>\n",
       "    <tr>\n",
       "      <th>min</th>\n",
       "      <td>1948-10-24 00:00:00</td>\n",
       "      <td>0.000000</td>\n",
       "      <td>0.000000</td>\n",
       "      <td>0.000000</td>\n",
       "      <td>0.00000</td>\n",
       "      <td>0.000000</td>\n",
       "    </tr>\n",
       "    <tr>\n",
       "      <th>25%</th>\n",
       "      <td>1988-03-29 00:00:00</td>\n",
       "      <td>1.000000</td>\n",
       "      <td>0.000000</td>\n",
       "      <td>0.000000</td>\n",
       "      <td>0.00000</td>\n",
       "      <td>0.000000</td>\n",
       "    </tr>\n",
       "    <tr>\n",
       "      <th>50%</th>\n",
       "      <td>1996-07-24 00:00:00</td>\n",
       "      <td>1.000000</td>\n",
       "      <td>0.000000</td>\n",
       "      <td>0.000000</td>\n",
       "      <td>0.00000</td>\n",
       "      <td>1.000000</td>\n",
       "    </tr>\n",
       "    <tr>\n",
       "      <th>75%</th>\n",
       "      <td>2008-07-28 00:00:00</td>\n",
       "      <td>1.000000</td>\n",
       "      <td>0.000000</td>\n",
       "      <td>0.000000</td>\n",
       "      <td>0.00000</td>\n",
       "      <td>2.000000</td>\n",
       "    </tr>\n",
       "    <tr>\n",
       "      <th>max</th>\n",
       "      <td>2022-12-26 00:00:00</td>\n",
       "      <td>8.000000</td>\n",
       "      <td>230.000000</td>\n",
       "      <td>137.000000</td>\n",
       "      <td>125.00000</td>\n",
       "      <td>699.000000</td>\n",
       "    </tr>\n",
       "    <tr>\n",
       "      <th>std</th>\n",
       "      <td>NaN</td>\n",
       "      <td>0.423027</td>\n",
       "      <td>2.172454</td>\n",
       "      <td>1.145059</td>\n",
       "      <td>1.30515</td>\n",
       "      <td>22.516708</td>\n",
       "    </tr>\n",
       "  </tbody>\n",
       "</table>\n",
       "</div>"
      ],
      "text/plain": [
       "                          Event Date  Number Of Engines  Total Fatal Injuries  \\\n",
       "count                          78579       77026.000000          70341.000000   \n",
       "mean   1998-08-25 08:41:17.242011136           1.132890              0.395800   \n",
       "min              1948-10-24 00:00:00           0.000000              0.000000   \n",
       "25%              1988-03-29 00:00:00           1.000000              0.000000   \n",
       "50%              1996-07-24 00:00:00           1.000000              0.000000   \n",
       "75%              2008-07-28 00:00:00           1.000000              0.000000   \n",
       "max              2022-12-26 00:00:00           8.000000            230.000000   \n",
       "std                              NaN           0.423027              2.172454   \n",
       "\n",
       "       Total Serious Injuries  Total Minor Injuries  Total Uninjured  \n",
       "count            70201.000000           70801.00000     75240.000000  \n",
       "mean                 0.250937               0.32508         3.942424  \n",
       "min                  0.000000               0.00000         0.000000  \n",
       "25%                  0.000000               0.00000         0.000000  \n",
       "50%                  0.000000               0.00000         1.000000  \n",
       "75%                  0.000000               0.00000         2.000000  \n",
       "max                137.000000             125.00000       699.000000  \n",
       "std                  1.145059               1.30515        22.516708  "
      ]
     },
     "execution_count": 20,
     "metadata": {},
     "output_type": "execute_result"
    }
   ],
   "source": [
    "#final analysis on cleaned data\n",
    "df.describe()"
   ]
  },
  {
   "cell_type": "code",
   "execution_count": 21,
   "metadata": {},
   "outputs": [
    {
     "name": "stdout",
     "output_type": "stream",
     "text": [
      "<class 'pandas.core.frame.DataFrame'>\n",
      "RangeIndex: 14849 entries, 0 to 14848\n",
      "Data columns (total 10 columns):\n",
      " #   Column         Non-Null Count  Dtype \n",
      "---  ------         --------------  ----- \n",
      " 0   Report Status  14849 non-null  object\n",
      " 1   pilot          14849 non-null  int32 \n",
      " 2   crew           14849 non-null  int32 \n",
      " 3   engine         14849 non-null  int32 \n",
      " 4   weather        14849 non-null  int32 \n",
      " 5   runway         14849 non-null  int32 \n",
      " 6   manufacturer   14849 non-null  int32 \n",
      " 7   probable       14849 non-null  int32 \n",
      " 8   foreign        14849 non-null  int32 \n",
      " 9   factual        14849 non-null  int32 \n",
      "dtypes: int32(9), object(1)\n",
      "memory usage: 638.2+ KB\n"
     ]
    }
   ],
   "source": [
    "# Count accidents by cause and creating another dataset accident_causes_counts\n",
    "\n",
    "\n",
    "# Filter the DataFrame for rows where 'Report Status' contains 'pilot',Other Crew,Engine Failure,Weather,Runway Condition and manufacturer defects\n",
    "accident_causes_pilot = df[df['Report Status'].str.contains('pilot', case=False, na=False)]\n",
    "accident_causes_crew = df[df['Report Status'].str.contains('crew', case=False, na=False)]\n",
    "accident_causes_engine= df[df['Report Status'].str.contains('engine', case=False, na=False)]\n",
    "accident_causes_weather= df[df['Report Status'].str.contains('weather', case=False, na=False)]\n",
    "accident_causes_runway= df[df['Report Status'].str.contains('runway', case=False, na=False)]\n",
    "accident_causes_manufacturer= df[df['Report Status'].str.contains('manufacturer', case=False, na=False)]\n",
    "accident_causes_probable= df[df['Report Status'].str.contains('Probable', case=False, na=False)]\n",
    "accident_causes_foreign= df[df['Report Status'].str.contains('Foreign', case=False, na=False)]\n",
    "accident_causes_factual= df[df['Report Status'].str.contains('Factual', case=False, na=False)]\n",
    "\n",
    "# Count the occurrences of each 'Report Status'\n",
    "accident_causes_pilot_counts = accident_causes_pilot['Report Status'].value_counts()\n",
    "accident_causes_crew_counts = accident_causes_crew['Report Status'].value_counts()\n",
    "accident_causes_engine_counts = accident_causes_engine['Report Status'].value_counts()\n",
    "accident_causes_weather_counts= accident_causes_weather['Report Status'].value_counts()\n",
    "accident_causes_runway_counts= accident_causes_runway['Report Status'].value_counts()\n",
    "accident_causes_manufacturer_counts= accident_causes_manufacturer['Report Status'].value_counts()\n",
    "accident_causes_probable_counts = accident_causes_probable['Report Status'].value_counts()\n",
    "accident_causes_foreign_counts = accident_causes_foreign['Report Status'].value_counts()\n",
    "accident_causes_factual_counts = accident_causes_factual['Report Status'].value_counts()\n",
    "\n",
    "# Combine the counts into a single DataFrame\n",
    "accident_causes_counts = pd.DataFrame({\n",
    "    'pilot': accident_causes_pilot_counts,\n",
    "    'crew': accident_causes_crew_counts,\n",
    "    'engine': accident_causes_engine_counts,\n",
    "    'weather': accident_causes_weather_counts,\n",
    "    'runway': accident_causes_runway_counts,\n",
    "    'manufacturer': accident_causes_manufacturer_counts,\n",
    "    'probable': accident_causes_probable_counts,\n",
    "    'foreign': accident_causes_foreign_counts,\n",
    "    'factual': accident_causes_factual_counts\n",
    "    \n",
    "}).fillna(0).astype(int)\n",
    "# Reset index to have a clean DataFrame\n",
    "accident_causes_counts = accident_causes_counts.reset_index().rename(columns={'index': 'Report Status'})\n",
    "\n",
    "accident_causes_counts.info()"
   ]
  },
  {
   "cell_type": "markdown",
   "metadata": {},
   "source": [
    "### Summary of Statistics\n",
    "\n",
    "Here are the key insights from the final analysis on the cleaned data:**df**\n",
    "\n",
    "The distinct column(unique identifier) in this dataframe is the `Event Id`\n",
    "\n",
    "The dataset now contains `80,357` rows after removing duplicates, incomplete cases, and other cleaning steps.\n",
    "\n",
    "Another data set has been created **accident_causes_counts** this will be used to visualize causal accident trends\n"
   ]
  },
  {
   "cell_type": "code",
   "execution_count": 22,
   "metadata": {},
   "outputs": [],
   "source": [
    "# Saving cleaned data to csv(for Tableau visualization later)\n",
    "df.to_csv('cleaned_aviation.csv',index = False)\n",
    "accident_causes_counts.to_csv('accident_causes.csv',index = False) \n"
   ]
  },
  {
   "cell_type": "markdown",
   "metadata": {},
   "source": [
    "### Analysis"
   ]
  },
  {
   "cell_type": "markdown",
   "metadata": {},
   "source": [
    "## Accident Trends by Year\n",
    "This can help identify if accidents are increasing, decreasing, or staying constant"
   ]
  },
  {
   "cell_type": "code",
   "execution_count": 32,
   "metadata": {},
   "outputs": [
    {
     "data": {
      "image/png": "[encoded data removed]",
      "text/plain": [
       "<Figure size 640x480 with 1 Axes>"
      ]
     },
     "metadata": {},
     "output_type": "display_data"
    }
   ],
   "source": [
    "# Extracting year from Date Time Values\n",
    "\n",
    "df['Year'] = df['Event Date'].dt.year\n",
    "\n",
    "# Count number of accidents for each year\n",
    "\n",
    "df_year = df.groupby('Year').size().reset_index(name='Number of accidents')\n",
    "\n",
    "# Sort by year\n",
    "df_year = df_year.sort_values('Year')\n",
    "# Create line plot\n",
    "df_year.plot(kind='line', x='Year', y='Number of accidents')\n",
    "\n",
    "# Set title and labels\n",
    "plt.title('Accident Trends by Year')\n",
    "plt.xlabel('Year')\n",
    "plt.ylabel('Number of Accidents')\n",
    "\n",
    "# Show plot\n",
    "plt.show();\n"
   ]
  },
  {
   "cell_type": "code",
   "execution_count": null,
   "metadata": {},
   "outputs": [],
   "source": []
  }
 ],
 "metadata": {
  "kernelspec": {
   "display_name": "Python 3 (ipykernel)",
   "language": "python",
   "name": "python3"
  },
  "language_info": {
   "codemirror_mode": {
    "name": "ipython",
    "version": 3
   },
   "file_extension": ".py",
   "mimetype": "text/x-python",
   "name": "python",
   "nbconvert_exporter": "python",
   "pygments_lexer": "ipython3",
   "version": "3.11.9"
  }
 },
 "nbformat": 4,
 "nbformat_minor": 4
}
